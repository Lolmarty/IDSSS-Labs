{
 "cells": [
  {
   "cell_type": "markdown",
   "metadata": {},
   "source": [
    "### Задача (варіант 2)\n",
    "\n",
    "**Ієрархія:** p = 3, повна, m = (3, 3, 4)\n",
    "\n",
    "**Метод розрахунку глобальних ваг:** ідеальної точки, ГВБВПА"
   ]
  },
  {
   "cell_type": "markdown",
   "metadata": {},
   "source": [
    "*Методи аналізу альтернатив рішень на основі ієрархічної моделі критеріїв (МАІ, analytic hierarchy process, AHP)* складаються з наступних чотирьох загальних етапів:\n",
    "\n",
    "1. Побудова ієрархічної моделі критеріїв, цілей та інших факторів, які впливають на головну ціль прийняття рішення; побудова множини альтернативних варіантів рішень.\n",
    "\n",
    "2. Отримання суджень експертів щодо парних порівнянь елементів одного рівня ієрархії відносно спільного елементу вищого рівня. Парні порівняння проводяться у вибраній шкалі і за результатами будуються матриці парних порівнянь (МПП), які є обернено симетричними.\n",
    "\n",
    "3. Математична обробка суджень експертів:\n",
    "   * розрахунок локальних ваг елементів кожного рівня ієрархії відповідно до батьківських елементів вищого рівня на основі МПП; побудова локальних ранжувань;\n",
    "   * аналіз узгодженості експертних оцінок;\n",
    "   * розрахунок глобальних ваг елементів ієрархії відносно головної цілі прийняття рішення, використовуючи методи агрегування; побудова ранжування на основі глобальних ваг.\n",
    "   * вилучити з розгляду найменш вагомий критерій і виконати етапи\n",
    "   * по черзі додати декілька альтернатив-копій еквівалентних до однієї з існуючих альтернатив, в кожному з експериментів виконати етапи  для множини з N+1 альтернатив,\n",
    "   * по черзі додати декілька неоптимальних за усіма критеріями альтернатив, в кожному з експериментів виконати етапи для множини з N+1 альтернатив,\n",
    "   * додати альтернативу, оптимальну за одним з критеріїв, в кожному з експериментів виконати етапи для множини з N+1 альтернатив,\n",
    "\n",
    "4. Порівняти ваги, отримані різними методами агрегування, та оцінити чутливість результуючого ранжування до зміни множин критеріїв та альтернатив рішень\n",
    "\n",
    "Постановка задачі:\n",
    "\n",
    "**Дано:** \n",
    " * $A = \\{A_i | i = 1, \\dots, N \\}$ - множина альтернативних варіантів рішень;\n",
    " * $C = \\{C_j | j = 1, \\dots, M \\}$ - множина критеріїв оцінювання альтернатив;\n",
    " * $a_{ij}$ - ненормована вага льтернативи $A_i$ за критерієм $C_j$;\n",
    " * $w_j^C$ - вага критерію $C_j, \\sum_{j=1}^{M} w_j^C = 1$\n",
    "\n",
    "**Потрібно:**\n",
    " * знайти глобальні ваги $w_i^{глоб}$ альтернатив $A_i, i = 1, \\dots, N$"
   ]
  },
  {
   "cell_type": "code",
   "execution_count": 1,
   "metadata": {},
   "outputs": [],
   "source": [
    "import numpy as np\n",
    "import math"
   ]
  },
  {
   "cell_type": "code",
   "execution_count": 2,
   "metadata": {},
   "outputs": [],
   "source": [
    "# number of alternatives\n",
    "n = 4\n",
    "# number of criterions C\n",
    "m = [3, 3, 4]\n",
    "\n",
    "#number of layers = P\n",
    "p = 3"
   ]
  },
  {
   "cell_type": "markdown",
   "metadata": {},
   "source": [
    "Функція для генерування коректної матриці парних порівнянь для мультиплікативної групи"
   ]
  },
  {
   "cell_type": "code",
   "execution_count": 3,
   "metadata": {},
   "outputs": [],
   "source": [
    "def generate_matched_matrix(n, low=1, high=10):\n",
    "    \"\"\"\n",
    "    Generates matched multiplicational matrix.\n",
    "    \"\"\"\n",
    "    mmp = np.zeros((n, n))\n",
    "    temp = np.random.randint(low, high, size=n).astype(float)\n",
    "    powers = np.random.randint(-1, 2, size=n).astype(float)\n",
    "    mmp[0, :] = np.power(temp, powers)\n",
    "    j = 0\n",
    "    for i in range(1, n):\n",
    "        mmp[i, j] = 1 / mmp[j, i]\n",
    "    for i in range(1, n):\n",
    "        for j in range(1, n):\n",
    "            mmp[i, j] = mmp[i, 0] * mmp[0, j]\n",
    "    mmp[0][0] = 1\n",
    "    return mmp"
   ]
  },
  {
   "cell_type": "markdown",
   "metadata": {},
   "source": [
    "# Data generation\n",
    "\n",
    "Генеруємо матриці парних порівнянь, та ваги критеріїв."
   ]
  },
  {
   "cell_type": "code",
   "execution_count": 4,
   "metadata": {},
   "outputs": [
    {
     "data": {
      "text/plain": [
       "[[array([[1.  , 0.25, 0.5 ],\n",
       "         [4.  , 1.  , 2.  ],\n",
       "         [2.  , 0.5 , 1.  ]])], [array([[1.   , 1.   , 8.   ],\n",
       "         [1.   , 1.   , 8.   ],\n",
       "         [0.125, 0.125, 1.   ]]), array([[1.        , 1.        , 6.        ],\n",
       "         [1.        , 1.        , 6.        ],\n",
       "         [0.16666667, 0.16666667, 1.        ]]), array([[1. , 1. , 0.2],\n",
       "         [1. , 1. , 0.2],\n",
       "         [5. , 5. , 1. ]])], [array([[1.        , 3.        , 9.        , 9.        ],\n",
       "         [0.33333333, 1.        , 3.        , 3.        ],\n",
       "         [0.11111111, 0.33333333, 1.        , 1.        ],\n",
       "         [0.11111111, 0.33333333, 1.        , 1.        ]]),\n",
       "  array([[ 1.  ,  4.  ,  0.2 ,  1.  ],\n",
       "         [ 0.25,  1.  ,  0.05,  0.25],\n",
       "         [ 5.  , 20.  ,  1.  ,  5.  ],\n",
       "         [ 1.  ,  4.  ,  0.2 ,  1.  ]]),\n",
       "  array([[1.        , 0.33333333, 1.        , 0.11111111],\n",
       "         [3.        , 1.        , 3.        , 0.33333333],\n",
       "         [1.        , 0.33333333, 1.        , 0.11111111],\n",
       "         [9.        , 3.        , 9.        , 1.        ]])]]"
      ]
     },
     "execution_count": 4,
     "metadata": {},
     "output_type": "execute_result"
    }
   ],
   "source": [
    "# put some fixed seed for reproducibility of the results\n",
    "np.random.seed(44)\n",
    "# matrices of pair comparisons according to each of 'm' criterion\n",
    "ddd = [[generate_matched_matrix(m[0])]]\n",
    "for layer in range(p - 1):\n",
    "    dd = []\n",
    "    for i in range(m[layer]):\n",
    "        dd.append(generate_matched_matrix(m[layer + 1]))\n",
    "    ddd.append(dd)\n",
    "\n",
    "# weights of criterions\n",
    "#w_crit = np.random.randn(m, 1)\n",
    "ddd"
   ]
  },
  {
   "cell_type": "markdown",
   "metadata": {},
   "source": [
    "Обраховуємо локальні ваги використовуючи підхід EM з попередньої лабораторної роботи"
   ]
  },
  {
   "cell_type": "code",
   "execution_count": 5,
   "metadata": {},
   "outputs": [
    {
     "data": {
      "text/plain": [
       "[[[0.18148095867689784, 0.5133056661466803, 0.30521337517642183]],\n",
       " [[0.4524428080730101, 0.4524428080730101, 0.09511438385397966],\n",
       "  [0.44231202279518583, 0.44231202279518583, 0.11537595440962829],\n",
       "  [0.18713620050514732, 0.18713620050514732, 0.6257275989897054]],\n",
       " [[0.642857142857143,\n",
       "   0.21428571428571433,\n",
       "   0.07142857142857144,\n",
       "   0.07142857142857144],\n",
       "  [0.13793103448275862,\n",
       "   0.034482758620689655,\n",
       "   0.6896551724137931,\n",
       "   0.13793103448275862],\n",
       "  [0.07142857142857142,\n",
       "   0.21428571428571425,\n",
       "   0.07142857142857142,\n",
       "   0.6428571428571428]]]"
      ]
     },
     "execution_count": 5,
     "metadata": {},
     "output_type": "execute_result"
    }
   ],
   "source": [
    "def calculate_local(D):\n",
    "    weighcalc = lambda x: math.pow(np.prod(x),1/4.)\n",
    "    \n",
    "    res = []\n",
    "    for layer in D:\n",
    "        layerres = []\n",
    "        for d in layer:\n",
    "            v = [weighcalc(di) for di in d]\n",
    "            w = [vi/np.sum(v) for vi in v]\n",
    "            layerres.append(w)\n",
    "        res.append(layerres)\n",
    "    return res\n",
    "v = calculate_local(ddd)\n",
    "v"
   ]
  },
  {
   "cell_type": "markdown",
   "metadata": {},
   "source": [
    "# Methods for finding global normed weights of alternatives"
   ]
  },
  {
   "cell_type": "markdown",
   "metadata": {},
   "source": [
    "Знайдемо локальні ваги альтернатив рішень та ваги критеріїв за\n",
    "методом ідеальної точки"
   ]
  },
  {
   "cell_type": "code",
   "execution_count": 6,
   "metadata": {},
   "outputs": [
    {
     "data": {
      "text/plain": [
       "[[0.18148095867689784, 0.5133056661466803, 0.30521337517642183],\n",
       " [0.38356076046023996, 0.38356076046023996, 0.23287847907952017],\n",
       " [0.32087543988563444,\n",
       "  0.1482822537233742,\n",
       "  0.29837197692374073,\n",
       "  0.23247032946725066]]"
      ]
     },
     "execution_count": 6,
     "metadata": {},
     "output_type": "execute_result"
    }
   ],
   "source": [
    "def ideal_point_synthesis(v):\n",
    "    \"\"\"\n",
    "    Computes global weights\n",
    "    \"\"\"\n",
    "    w_glob = [v[0][0]]\n",
    "    for i in range(1, p):\n",
    "        r = [np.divide(np.array(vi), np.array(vi).max()) for vi in v[i]]\n",
    "        vi = [np.sum(vic) for vic in np.multiply(np.array(r).T, w_glob[i - 1])]\n",
    "        wi_glob = [vij/np.sum(vi) for vij in vi]\n",
    "        w_glob.append(wi_glob)\n",
    "    return w_glob\n",
    "w_g = ideal_point_synthesis(v)\n",
    "w_g"
   ]
  },
  {
   "cell_type": "markdown",
   "metadata": {},
   "source": [
    "Знайдемо локальні ваги альтернатив рішень та ваги критеріїв за\n",
    "методом групового врахування бінарних відношень переваг з ЕМ з попередньої роботи"
   ]
  },
  {
   "cell_type": "code",
   "execution_count": 7,
   "metadata": {},
   "outputs": [
    {
     "data": {
      "text/plain": [
       "[0.3141295140757584,\n",
       " 0.19069104795749503,\n",
       " 0.2532685763609987,\n",
       " 0.24191086160574785]"
      ]
     },
     "execution_count": 7,
     "metadata": {},
     "output_type": "execute_result"
    }
   ],
   "source": [
    "def groupped_concideration_of_binary_alternative_superiority_relation(aij, wjc):\n",
    "    #gvbvpa\n",
    "    n = len(aij[0])\n",
    "    P = np.identity(n)\n",
    "    \n",
    "    for i in range(n):\n",
    "        for k in range(i, n):\n",
    "            ri = [aj[i] / (aj[i] + aj[k]) for aj in aij]\n",
    "            rk = [aj[k] / (aj[i] + aj[k]) for aj in aij]\n",
    "            wi = np.sum(np.multiply(ri,wjc))\n",
    "            wk = np.sum(np.multiply(rk,wjc))\n",
    "            P[i, k] = wi / wk\n",
    "            P[k, i] = wk / wi\n",
    "    \n",
    "    weighcalc = lambda x: math.pow(np.prod(x),1/4.)\n",
    "    v = [weighcalc(di) for di in P]\n",
    "    w = [vi / np.sum(v) for vi in v]\n",
    "    return w\n",
    "\n",
    "_aij = v[-1]\n",
    "_wjc = w_g[-2]\n",
    "w_gvbvpa = groupped_concideration_of_binary_alternative_superiority_relation(_aij, _wjc)\n",
    "w_gvbvpa"
   ]
  },
  {
   "cell_type": "code",
   "execution_count": 8,
   "metadata": {},
   "outputs": [
    {
     "name": "stdout",
     "output_type": "stream",
     "text": [
      "Найкраща альтернатива за методом ідеальної точки 1\n",
      "Найкраща альтернатива за методом ГВБВПА 1\n"
     ]
    }
   ],
   "source": [
    "print(\"Найкраща альтернатива за методом ідеальної точки \" + str(np.argmax(w_g[-1]) + 1))\n",
    "print(\"Найкраща альтернатива за методом ГВБВПА \" + str(np.argmax(w_gvbvpa) + 1))"
   ]
  },
  {
   "cell_type": "markdown",
   "metadata": {},
   "source": [
    "# Аналіз чутливості\n",
    "### Вилучимо з розгляду найменш вагомий критерій"
   ]
  },
  {
   "cell_type": "code",
   "execution_count": 9,
   "metadata": {},
   "outputs": [
    {
     "data": {
      "text/plain": [
       "[[array([[1. , 2. ],\n",
       "         [0.5, 1. ]])], [array([[1.        , 1.        , 6.        ],\n",
       "         [1.        , 1.        , 6.        ],\n",
       "         [0.16666667, 0.16666667, 1.        ]]), array([[1. , 1. , 0.2],\n",
       "         [1. , 1. , 0.2],\n",
       "         [5. , 5. , 1. ]])], [array([[1.        , 3.        , 9.        , 9.        ],\n",
       "         [0.33333333, 1.        , 3.        , 3.        ],\n",
       "         [0.11111111, 0.33333333, 1.        , 1.        ],\n",
       "         [0.11111111, 0.33333333, 1.        , 1.        ]]),\n",
       "  array([[ 1.  ,  4.  ,  0.2 ,  1.  ],\n",
       "         [ 0.25,  1.  ,  0.05,  0.25],\n",
       "         [ 5.  , 20.  ,  1.  ,  5.  ],\n",
       "         [ 1.  ,  4.  ,  0.2 ,  1.  ]]),\n",
       "  array([[1.        , 0.33333333, 1.        , 0.11111111],\n",
       "         [3.        , 1.        , 3.        , 0.33333333],\n",
       "         [1.        , 0.33333333, 1.        , 0.11111111],\n",
       "         [9.        , 3.        , 9.        , 1.        ]])]]"
      ]
     },
     "execution_count": 9,
     "metadata": {},
     "output_type": "execute_result"
    }
   ],
   "source": [
    "# removing a criterion (upper level)\n",
    "layer = 0\n",
    "least_criterion = np.argmin(w_g[layer])\n",
    "sans_lc = list(range(m[layer]))\n",
    "sans_lc.pop(least_criterion)\n",
    "ddd_modified = ddd[:layer]\n",
    "ddd_modified.append([dd[:,sans_lc][sans_lc,:] for dd in ddd[layer]])\n",
    "ddd_modified.append([ddd[layer + 1][i] for i in sans_lc])\n",
    "ddd_modified.extend(ddd[layer + 2:])\n",
    "ddd_modified"
   ]
  },
  {
   "cell_type": "markdown",
   "metadata": {},
   "source": [
    "Обчислимо ваги методами ідеальної точки і ГВБВПА"
   ]
  },
  {
   "cell_type": "code",
   "execution_count": 10,
   "metadata": {},
   "outputs": [],
   "source": [
    "v_dash = calculate_local(ddd_modified)\n",
    "w_g_dash = ideal_point_synthesis(v_dash)\n",
    "_aij = v_dash[-1]\n",
    "_wjc = w_g_dash[-2]\n",
    "w_gvbvpa_dash = groupped_concideration_of_binary_alternative_superiority_relation(_aij, _wjc)"
   ]
  },
  {
   "cell_type": "code",
   "execution_count": 11,
   "metadata": {},
   "outputs": [
    {
     "name": "stdout",
     "output_type": "stream",
     "text": [
      "Ваги отримані методом ідеальної точки\n"
     ]
    },
    {
     "data": {
      "text/plain": [
       "[[0.585786437626905, 0.41421356237309503],\n",
       " [0.35727189894488437, 0.35727189894488437, 0.2854562021102313],\n",
       " [0.3033538226552575,\n",
       "  0.1529184609405944,\n",
       "  0.2824310452590522,\n",
       "  0.26129667114509597]]"
      ]
     },
     "execution_count": 11,
     "metadata": {},
     "output_type": "execute_result"
    }
   ],
   "source": [
    "print(\"Ваги отримані методом ідеальної точки\")\n",
    "w_g_dash"
   ]
  },
  {
   "cell_type": "code",
   "execution_count": 12,
   "metadata": {},
   "outputs": [
    {
     "name": "stdout",
     "output_type": "stream",
     "text": [
      "Ваги альтернатив отримані методом ГВБВПА\n"
     ]
    },
    {
     "data": {
      "text/plain": [
       "[0.29636918915545996,\n",
       " 0.19877541153539638,\n",
       " 0.24302735269481468,\n",
       " 0.261828046614329]"
      ]
     },
     "execution_count": 12,
     "metadata": {},
     "output_type": "execute_result"
    }
   ],
   "source": [
    "print(\"Ваги альтернатив отримані методом ГВБВПА\")\n",
    "w_gvbvpa_dash"
   ]
  },
  {
   "cell_type": "code",
   "execution_count": 13,
   "metadata": {},
   "outputs": [
    {
     "name": "stdout",
     "output_type": "stream",
     "text": [
      "Найкраща альтернатива за методом ідеальної точки 1\n",
      "Найкраща альтернатива за методом ГВБВПА 1\n"
     ]
    }
   ],
   "source": [
    "print(\"Найкраща альтернатива за методом ідеальної точки \" + str(np.argmax(w_g_dash[-1]) + 1))\n",
    "print(\"Найкраща альтернатива за методом ГВБВПА \" + str(np.argmax(w_gvbvpa_dash) + 1))"
   ]
  },
  {
   "cell_type": "markdown",
   "metadata": {},
   "source": [
    "### Продублюємо довільну альтернативу"
   ]
  },
  {
   "cell_type": "code",
   "execution_count": 14,
   "metadata": {},
   "outputs": [
    {
     "name": "stdout",
     "output_type": "stream",
     "text": [
      "Довільним чином обрана альтернатива 3\n"
     ]
    },
    {
     "data": {
      "text/plain": [
       "[array([[1.        , 3.        , 9.        , 9.        , 9.        ],\n",
       "        [0.33333333, 1.        , 3.        , 3.        , 3.        ],\n",
       "        [0.11111111, 0.33333333, 1.        , 1.        , 1.        ],\n",
       "        [0.11111111, 0.33333333, 1.        , 1.        , 1.        ],\n",
       "        [0.11111111, 0.33333333, 1.        , 1.        , 1.        ]]),\n",
       " array([[ 1.  ,  4.  ,  0.2 ,  0.2 ,  1.  ],\n",
       "        [ 0.25,  1.  ,  0.05,  0.05,  0.25],\n",
       "        [ 5.  , 20.  ,  1.  ,  1.  ,  5.  ],\n",
       "        [ 5.  , 20.  ,  1.  ,  1.  ,  5.  ],\n",
       "        [ 1.  ,  4.  ,  0.2 ,  0.2 ,  1.  ]]),\n",
       " array([[1.        , 0.33333333, 1.        , 1.        , 0.11111111],\n",
       "        [3.        , 1.        , 3.        , 3.        , 0.33333333],\n",
       "        [1.        , 0.33333333, 1.        , 1.        , 0.11111111],\n",
       "        [1.        , 0.33333333, 1.        , 1.        , 0.11111111],\n",
       "        [9.        , 3.        , 9.        , 9.        , 1.        ]])]"
      ]
     },
     "execution_count": 14,
     "metadata": {},
     "output_type": "execute_result"
    }
   ],
   "source": [
    "alternative = np.random.randint(m[-1])\n",
    "duplicated = list(range(m[-1]))\n",
    "duplicated.insert(alternative, alternative)\n",
    "ddd_modified = ddd[:-1]\n",
    "ddd_modified.append([dd[:, duplicated][duplicated, :] for dd in ddd[-1]])\n",
    "print(\"Довільним чином обрана альтернатива \" + str(alternative + 1))\n",
    "ddd_modified[-1]"
   ]
  },
  {
   "cell_type": "code",
   "execution_count": 15,
   "metadata": {},
   "outputs": [
    {
     "name": "stdout",
     "output_type": "stream",
     "text": [
      "Ваги отримані методом ідеальної точки\n"
     ]
    },
    {
     "data": {
      "text/plain": [
       "[[0.18148095867689784, 0.5133056661466803, 0.30521337517642183],\n",
       " [0.38356076046023996, 0.38356076046023996, 0.23287847907952017],\n",
       " [0.2541252341525689,\n",
       "  0.09333335129132692,\n",
       "  0.23904323019669635,\n",
       "  0.23904323019669635,\n",
       "  0.17445495416271156]]"
      ]
     },
     "execution_count": 15,
     "metadata": {},
     "output_type": "execute_result"
    }
   ],
   "source": [
    "v_dash = calculate_local(ddd_modified)\n",
    "w_g_dash = ideal_point_synthesis(v_dash)\n",
    "_aij = v_dash[-1]\n",
    "_wjc = w_g_dash[-2]\n",
    "w_gvbvpa_dash = groupped_concideration_of_binary_alternative_superiority_relation(_aij, _wjc)\n",
    "print(\"Ваги отримані методом ідеальної точки\")\n",
    "w_g_dash"
   ]
  },
  {
   "cell_type": "code",
   "execution_count": 16,
   "metadata": {},
   "outputs": [
    {
     "name": "stdout",
     "output_type": "stream",
     "text": [
      "Ваги альтернатив отримані методом ГВБВПА\n"
     ]
    },
    {
     "data": {
      "text/plain": [
       "[0.26491896416919325,\n",
       " 0.1491552860804503,\n",
       " 0.2008431231490342,\n",
       " 0.2008431231490342,\n",
       " 0.18423950345228804]"
      ]
     },
     "execution_count": 16,
     "metadata": {},
     "output_type": "execute_result"
    }
   ],
   "source": [
    "print(\"Ваги альтернатив отримані методом ГВБВПА\")\n",
    "w_gvbvpa_dash"
   ]
  },
  {
   "cell_type": "code",
   "execution_count": 17,
   "metadata": {},
   "outputs": [
    {
     "name": "stdout",
     "output_type": "stream",
     "text": [
      "Найкраща альтернатива за методом ідеальної точки 1\n",
      "Найкраща альтернатива за методом ГВБВПА 1\n"
     ]
    }
   ],
   "source": [
    "print(\"Найкраща альтернатива за методом ідеальної точки \" + str(np.argmax(w_g_dash[-1]) + 1))\n",
    "print(\"Найкраща альтернатива за методом ГВБВПА \" + str(np.argmax(w_gvbvpa_dash) + 1))"
   ]
  },
  {
   "cell_type": "markdown",
   "metadata": {},
   "source": [
    "### Додавання неоптимальної альтернативи"
   ]
  },
  {
   "cell_type": "code",
   "execution_count": 18,
   "metadata": {},
   "outputs": [
    {
     "data": {
      "text/plain": [
       "[array([[1.        , 3.        , 9.        , 9.        , 5.        ],\n",
       "        [0.33333333, 1.        , 3.        , 3.        , 7.        ],\n",
       "        [0.11111111, 0.33333333, 1.        , 1.        , 8.        ],\n",
       "        [0.11111111, 0.33333333, 1.        , 1.        , 6.        ],\n",
       "        [0.2       , 0.14285714, 0.125     , 0.16666667, 1.        ]]),\n",
       " array([[ 1.        ,  4.        ,  0.2       ,  1.        ,  7.        ],\n",
       "        [ 0.25      ,  1.        ,  0.05      ,  0.25      ,  3.        ],\n",
       "        [ 5.        , 20.        ,  1.        ,  5.        ,  6.        ],\n",
       "        [ 1.        ,  4.        ,  0.2       ,  1.        ,  2.        ],\n",
       "        [ 0.14285714,  0.33333333,  0.16666667,  0.5       ,  1.        ]]),\n",
       " array([[1.        , 0.33333333, 1.        , 0.11111111, 2.        ],\n",
       "        [3.        , 1.        , 3.        , 0.33333333, 9.        ],\n",
       "        [1.        , 0.33333333, 1.        , 0.11111111, 1.        ],\n",
       "        [9.        , 3.        , 9.        , 1.        , 4.        ],\n",
       "        [0.5       , 0.11111111, 1.        , 0.25      , 1.        ]])]"
      ]
     },
     "execution_count": 18,
     "metadata": {},
     "output_type": "execute_result"
    }
   ],
   "source": [
    "def insert_worse_alternative(d, low=1, high=10):\n",
    "    new_size = m[-1] + 1\n",
    "    new_mmp = np.zeros((new_size, new_size))\n",
    "    temp = np.random.randint(low, high, size=new_size).astype(float)\n",
    "    new_mmp[:-1, :-1] = d\n",
    "    new_mmp[:, -1] = temp\n",
    "    new_mmp[-1, :] = np.power(temp, -1.)\n",
    "    new_mmp[-1, -1] = 1.\n",
    "    return new_mmp\n",
    "\n",
    "ddd_modified = ddd[:-1]\n",
    "ddd_modified.append([insert_worse_alternative(dd) for dd in ddd[-1]])\n",
    "ddd_modified[-1]"
   ]
  },
  {
   "cell_type": "code",
   "execution_count": 19,
   "metadata": {},
   "outputs": [
    {
     "name": "stdout",
     "output_type": "stream",
     "text": [
      "Ваги отримані методом ідеальної точки\n"
     ]
    },
    {
     "data": {
      "text/plain": [
       "[[0.18148095867689784, 0.5133056661466803, 0.30521337517642183],\n",
       " [0.38356076046023996, 0.38356076046023996, 0.23287847907952017],\n",
       " [0.31125521003085144,\n",
       "  0.1606007635907964,\n",
       "  0.2886310325991901,\n",
       "  0.21546626113846307,\n",
       "  0.024046732640699085]]"
      ]
     },
     "execution_count": 19,
     "metadata": {},
     "output_type": "execute_result"
    }
   ],
   "source": [
    "v_dash = calculate_local(ddd_modified)\n",
    "w_g_dash = ideal_point_synthesis(v_dash)\n",
    "_aij = v_dash[-1]\n",
    "_wjc = w_g_dash[-2]\n",
    "w_gvbvpa_dash = groupped_concideration_of_binary_alternative_superiority_relation(_aij, _wjc)\n",
    "print(\"Ваги отримані методом ідеальної точки\")\n",
    "w_g_dash"
   ]
  },
  {
   "cell_type": "code",
   "execution_count": 20,
   "metadata": {},
   "outputs": [
    {
     "name": "stdout",
     "output_type": "stream",
     "text": [
      "Ваги альтернатив отримані методом ГВБВПА\n"
     ]
    },
    {
     "data": {
      "text/plain": [
       "[0.32080202623264054,\n",
       " 0.17685968899194765,\n",
       " 0.23905295858153663,\n",
       " 0.22834621786687231,\n",
       " 0.0349391083270029]"
      ]
     },
     "execution_count": 20,
     "metadata": {},
     "output_type": "execute_result"
    }
   ],
   "source": [
    "print(\"Ваги альтернатив отримані методом ГВБВПА\")\n",
    "w_gvbvpa_dash"
   ]
  },
  {
   "cell_type": "code",
   "execution_count": 21,
   "metadata": {},
   "outputs": [
    {
     "name": "stdout",
     "output_type": "stream",
     "text": [
      "Найкраща альтернатива за методом ідеальної точки 1\n",
      "Найкраща альтернатива за методом ГВБВПА 1\n"
     ]
    }
   ],
   "source": [
    "print(\"Найкраща альтернатива за методом ідеальної точки \" + str(np.argmax(w_g_dash[-1]) + 1))\n",
    "print(\"Найкраща альтернатива за методом ГВБВПА \" + str(np.argmax(w_gvbvpa_dash) + 1))"
   ]
  },
  {
   "cell_type": "markdown",
   "metadata": {},
   "source": [
    "### Додання альтернативи оптимальної за одним з критеріїв"
   ]
  },
  {
   "cell_type": "code",
   "execution_count": 22,
   "metadata": {},
   "outputs": [
    {
     "data": {
      "text/plain": [
       "[[array([[1.        , 3.        , 9.        , 9.        , 6.        ],\n",
       "         [0.33333333, 1.        , 3.        , 3.        , 1.        ],\n",
       "         [0.11111111, 0.33333333, 1.        , 1.        , 9.        ],\n",
       "         [0.11111111, 0.33333333, 1.        , 1.        , 1.        ],\n",
       "         [0.16666667, 1.        , 0.11111111, 1.        , 1.        ]]),\n",
       "  array([[ 1.        ,  4.        ,  0.2       ,  1.        ,  0.11111111],\n",
       "         [ 0.25      ,  1.        ,  0.05      ,  0.25      ,  0.11111111],\n",
       "         [ 5.        , 20.        ,  1.        ,  5.        ,  0.11111111],\n",
       "         [ 1.        ,  4.        ,  0.2       ,  1.        ,  0.11111111],\n",
       "         [ 9.        ,  9.        ,  9.        ,  9.        ,  1.        ]]),\n",
       "  array([[1.        , 0.33333333, 1.        , 0.11111111, 3.        ],\n",
       "         [3.        , 1.        , 3.        , 0.33333333, 8.        ],\n",
       "         [1.        , 0.33333333, 1.        , 0.11111111, 7.        ],\n",
       "         [9.        , 3.        , 9.        , 1.        , 7.        ],\n",
       "         [0.33333333, 0.125     , 0.14285714, 0.14285714, 1.        ]])]]"
      ]
     },
     "execution_count": 22,
     "metadata": {},
     "output_type": "execute_result"
    }
   ],
   "source": [
    "def insert_better_alternative(d, high=9):\n",
    "    new_size = m[-1] + 1\n",
    "    new_mmp = np.zeros((new_size, new_size))\n",
    "    temp = np.full(new_size, high).astype(float)\n",
    "    new_mmp[:-1, :-1] = d\n",
    "    new_mmp[-1, :] = temp\n",
    "    new_mmp[:, -1] = np.power(temp, -1.)\n",
    "    new_mmp[-1, -1] = 1.\n",
    "    return new_mmp\n",
    "\n",
    "random_criterion = np.random.randint(m[-2])\n",
    "ddd_modified = ddd[:-1]\n",
    "ddd_modified.append([insert_worse_alternative(dd) for dd in ddd[-1][:random_criterion]])\n",
    "ddd_modified[-1].append(insert_better_alternative(ddd[-1][random_criterion]))\n",
    "ddd_modified[-1].extend([insert_worse_alternative(dd) for dd in ddd[-1][random_criterion + 1:]])\n",
    "ddd_modified[-1:]"
   ]
  },
  {
   "cell_type": "code",
   "execution_count": 23,
   "metadata": {},
   "outputs": [
    {
     "name": "stdout",
     "output_type": "stream",
     "text": [
      "Ваги отримані методом ідеальної точки\n"
     ]
    },
    {
     "data": {
      "text/plain": [
       "[[0.18148095867689784, 0.5133056661466803, 0.30521337517642183],\n",
       " [0.38356076046023996, 0.38356076046023996, 0.23287847907952017],\n",
       " [0.28884463676319605,\n",
       "  0.11328472540000803,\n",
       "  0.12788450371382862,\n",
       "  0.1913484659311749,\n",
       "  0.2786376681917924]]"
      ]
     },
     "execution_count": 23,
     "metadata": {},
     "output_type": "execute_result"
    }
   ],
   "source": [
    "v_dash = calculate_local(ddd_modified)\n",
    "w_g_dash = ideal_point_synthesis(v_dash)\n",
    "_aij = v_dash[-1]\n",
    "_wjc = w_g_dash[-2]\n",
    "w_gvbvpa_dash = groupped_concideration_of_binary_alternative_superiority_relation(_aij, _wjc)\n",
    "print(\"Ваги отримані методом ідеальної точки\")\n",
    "w_g_dash"
   ]
  },
  {
   "cell_type": "code",
   "execution_count": 24,
   "metadata": {},
   "outputs": [
    {
     "name": "stdout",
     "output_type": "stream",
     "text": [
      "Ваги альтернатив отримані методом ГВБВПА\n"
     ]
    },
    {
     "data": {
      "text/plain": [
       "[0.2691881947477901,\n",
       " 0.1451193420911868,\n",
       " 0.2326042285580377,\n",
       " 0.1725725463794374,\n",
       " 0.180515688223548]"
      ]
     },
     "execution_count": 24,
     "metadata": {},
     "output_type": "execute_result"
    }
   ],
   "source": [
    "print(\"Ваги альтернатив отримані методом ГВБВПА\")\n",
    "w_gvbvpa_dash"
   ]
  },
  {
   "cell_type": "code",
   "execution_count": 25,
   "metadata": {},
   "outputs": [
    {
     "name": "stdout",
     "output_type": "stream",
     "text": [
      "Найкраща альтернатива за методом ідеальної точки 1\n",
      "Найкраща альтернатива за методом ГВБВПА 1\n"
     ]
    }
   ],
   "source": [
    "print(\"Найкраща альтернатива за методом ідеальної точки \" + str(np.argmax(w_g_dash[-1]) + 1))\n",
    "print(\"Найкраща альтернатива за методом ГВБВПА \" + str(np.argmax(w_gvbvpa_dash) + 1))"
   ]
  }
 ],
 "metadata": {
  "kernelspec": {
   "display_name": "Python 3",
   "language": "python",
   "name": "python3"
  },
  "language_info": {
   "codemirror_mode": {
    "name": "ipython",
    "version": 3
   },
   "file_extension": ".py",
   "mimetype": "text/x-python",
   "name": "python",
   "nbconvert_exporter": "python",
   "pygments_lexer": "ipython3",
   "version": "3.7.3"
  }
 },
 "nbformat": 4,
 "nbformat_minor": 2
}
