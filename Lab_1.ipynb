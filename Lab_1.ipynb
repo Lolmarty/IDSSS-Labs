{
 "cells": [
  {
   "cell_type": "markdown",
   "metadata": {},
   "source": [
    "## Задача (варіант 2)"
   ]
  },
  {
   "cell_type": "markdown",
   "metadata": {},
   "source": [
    "Задача прийняття рішення полягає в оцінюванні наступних чотирьох варіантів\n",
    "вкладення коштів: придбання акцій, оформлення депозиту, придбання\n",
    "облігацій, придбання дорогоцінних металів за критерієм «надійність\n",
    "вкладення коштів». За результатами парних порівнянь цих варіантів\n",
    "встановлено, що другий варіант ненабагато кращий за перший і третій\n",
    "варіанти і суттєво кращий за четвертий, перший варіант має однакову\n",
    "надійність, що і третій, і ненабагато кращий за четвертий варіант,\n",
    "перевага третього варіанту над четвертим – між слабкою і суттєвою."
   ]
  },
  {
   "cell_type": "markdown",
   "metadata": {},
   "source": [
    "## Матриця парних порівнянь"
   ]
  },
  {
   "cell_type": "markdown",
   "metadata": {},
   "source": [
    "|Інтенсивність важливості | Якісна оцінка|\n",
    "|-------------------------|--------------|\n",
    "| 1 | однаково важливі |\n",
    "| 3 | ненабагато важливіші |\n",
    "| 5 | суттєво важливіші |\n",
    "| 7 | значно важливіші |\n",
    "| 9 | абсолютно важливіші |\n",
    "2, 4, 6, 8 - проміжні"
   ]
  },
  {
   "cell_type": "code",
   "execution_count": 1,
   "metadata": {},
   "outputs": [],
   "source": [
    "import numpy as np"
   ]
  },
  {
   "cell_type": "markdown",
   "metadata": {},
   "source": [
    "Матриця парних порівнянь $D = \\{d_{ij} | i, j = 1, \\dots, 4\\}$ альтернатив $A = \\{a_i\\}, i = 1, \\dots, 4$.\n",
    "\n",
    "Для мультиплікативних груп $d_{ij}$ вказує **у скільки** разів альтернатива $a_i$ переважає альтернативу $a_j$ вдносно критерію, за яким будується матриця $D$."
   ]
  },
  {
   "cell_type": "code",
   "execution_count": 2,
   "metadata": {},
   "outputs": [
    {
     "data": {
      "text/plain": [
       "array([[1.        , 0.33333333, 1.        , 3.        ],\n",
       "       [3.        , 1.        , 3.        , 5.        ],\n",
       "       [1.        , 0.33333333, 1.        , 4.        ],\n",
       "       [0.33333333, 0.2       , 0.25      , 1.        ]])"
      ]
     },
     "execution_count": 2,
     "metadata": {},
     "output_type": "execute_result"
    }
   ],
   "source": [
    "D = np.array([[1.0, 1/3.0, 1.0, 3.0],\n",
    "              [3.0, 1.0, 3.0, 5.0],\n",
    "              [1.0, 1/3.0, 1.0, 4.0],\n",
    "              [1/3.0, 1/5.0, 1/4.0, 1.0]])\n",
    "D"
   ]
  },
  {
   "cell_type": "markdown",
   "metadata": {},
   "source": [
    "Перевірка матриці парних порівнянь на коректність(якщо альтернатива $a_i$ краща за альтернативу $a_j$ у $k$ разів, тоді $d_{ij} = k, d_{ji} = \\frac{1}{k}$)."
   ]
  },
  {
   "cell_type": "code",
   "execution_count": 4,
   "metadata": {},
   "outputs": [
    {
     "name": "stdout",
     "output_type": "stream",
     "text": [
      "Matrix satisfies inverse symmetry property: True\n"
     ]
    }
   ],
   "source": [
    "def check_inverse_symmetry(matrix):\n",
    "    for i in range(len(matrix)):\n",
    "        for j in range(i, len(matrix[i])):\n",
    "            if matrix[j][i] != 1./matrix[i][j] or matrix[i][j] <= 0:\n",
    "                return False\n",
    "    return True\n",
    "\n",
    "print(\"Matrix satisfies inverse symmetry property: {}\".format(check_inverse_symmetry(D)))"
   ]
  },
  {
   "cell_type": "markdown",
   "metadata": {},
   "source": [
    "## Ваги альтернатив"
   ]
  },
  {
   "cell_type": "markdown",
   "metadata": {},
   "source": [
    "Метою спеціаліста з методу аналізу ієрархій є побудова ваг для кожної з альтернатив: $a_i, i = 1, \\dots, 4$. Для цього існують різні методи. Нижче застосовано метод головного власного вектору(eigenvector method, EM)\n",
    "### Row Geometric Mean Method (RGMM)\n",
    "\n",
    "Шукаємо усереднені ваги для матриці парних порівнянь $D$ за формулою\n",
    "$$w_i=\\frac{\\sqrt[n]{\\prod_{j=1}^{n}d_ij}}{\\sum_{k=1}^{n}\\sqrt[n]{\\prod_{j=1}^{n}d_kj}}$$"
   ]
  },
  {
   "cell_type": "code",
   "execution_count": 6,
   "metadata": {},
   "outputs": [
    {
     "name": "stdout",
     "output_type": "stream",
     "text": [
      "Normalized weight #1: 0.19904878138811033 \n",
      "Raw weight: 1.0\n",
      "----------------------------------------\n",
      "Normalized weight #2: 0.5155403375321199 \n",
      "Raw weight: 2.5900200641113513\n",
      "----------------------------------------\n",
      "Normalized weight #3: 0.21389183544578083 \n",
      "Raw weight: 1.074569931823542\n",
      "----------------------------------------\n",
      "Normalized weight #4: 0.07151904563398906 \n",
      "Raw weight: 0.3593041119630842\n",
      "----------------------------------------\n",
      "Sanity check: 1.0000000000000002\n"
     ]
    }
   ],
   "source": [
    "import math\n",
    "weighcalc = lambda x: math.pow(np.prod(x),1/4.)\n",
    "v = [weighcalc(di) for di in D]\n",
    "w = [vi/np.sum(v) for vi in v]\n",
    "for i in range(len(w)):\n",
    "    print('Normalized weight #{}: {} \\nRaw weight: {}'.format(i + 1, w[i], v[i]))\n",
    "    print('-' * 40)\n",
    "print('Sanity check: {}'.format(np.sum(w)))"
   ]
  },
  {
   "cell_type": "markdown",
   "metadata": {},
   "source": [
    "Обчислимо міру неузгодженості МПП за RGMM $GCI$"
   ]
  },
  {
   "cell_type": "code",
   "execution_count": 7,
   "metadata": {},
   "outputs": [
    {
     "name": "stdout",
     "output_type": "stream",
     "text": [
      "GCI = 0.09955830402757827\n"
     ]
    }
   ],
   "source": [
    "temp = [ [math.log(D[i, j] * v[j] / v[i]) ** 2 for j in range(i, 4)] for i in range (4)]\n",
    "GCI = np.sum(np.sum(temp)) / 3.\n",
    "\n",
    "print('GCI = {}'.format(GCI))"
   ]
  },
  {
   "cell_type": "markdown",
   "metadata": {},
   "source": [
    "**МПП допустимо неузгоджена, бо GСІ не перевищує попрогове значення для n = 4: 0.3526**"
   ]
  },
  {
   "cell_type": "code",
   "execution_count": 8,
   "metadata": {},
   "outputs": [
    {
     "name": "stdout",
     "output_type": "stream",
     "text": [
      "Final weights: [0.19904878138811033, 0.5155403375321199, 0.21389183544578083, 0.07151904563398906]\n"
     ]
    }
   ],
   "source": [
    "print(\"Final weights: {}\".format(w))"
   ]
  }
 ],
 "metadata": {
  "kernelspec": {
   "display_name": "Python 3",
   "language": "python",
   "name": "python3"
  },
  "language_info": {
   "codemirror_mode": {
    "name": "ipython",
    "version": 3
   },
   "file_extension": ".py",
   "mimetype": "text/x-python",
   "name": "python",
   "nbconvert_exporter": "python",
   "pygments_lexer": "ipython3",
   "version": "3.7.3"
  }
 },
 "nbformat": 4,
 "nbformat_minor": 2
}
